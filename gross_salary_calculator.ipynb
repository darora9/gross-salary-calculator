{
  "nbformat": 4,
  "nbformat_minor": 0,
  "metadata": {
    "colab": {
      "provenance": [],
      "authorship_tag": "ABX9TyNP95cX/Fwegb3aHxKiO2eo",
      "include_colab_link": true
    },
    "kernelspec": {
      "name": "python3",
      "display_name": "Python 3"
    },
    "language_info": {
      "name": "python"
    }
  },
  "cells": [
    {
      "cell_type": "markdown",
      "metadata": {
        "id": "view-in-github",
        "colab_type": "text"
      },
      "source": [
        "<a href=\"https://colab.research.google.com/github/darora9/gross-salary-calculator/blob/main/gross_salary_calculator.ipynb\" target=\"_parent\"><img src=\"https://colab.research.google.com/assets/colab-badge.svg\" alt=\"Open In Colab\"/></a>"
      ]
    },
    {
      "cell_type": "code",
      "execution_count": 4,
      "metadata": {
        "id": "zkSA5rVdUWrn",
        "colab": {
          "base_uri": "https://localhost:8080/"
        },
        "outputId": "0581c9a8-944b-4bef-dfd6-6b820cfed1bb"
      },
      "outputs": [
        {
          "output_type": "stream",
          "name": "stdout",
          "text": [
            "enter the basic salary: 44\n",
            "gross salary is=  88.0\n"
          ]
        }
      ],
      "source": [
        "basic_salary=int(input(\"enter the basic salary: \"))\n",
        "\n",
        "if basic_salary<=10000:\n",
        "  hra=0.2*(basic_salary)\n",
        "  da=0.8*(basic_salary)\n",
        "\n",
        "elif basic_salary<=20000:\n",
        "  hra=0.25*(basic_salary)\n",
        "  da=0.9*(basic_salary)\n",
        "\n",
        "else :\n",
        "  hra=0.3*(basic_salary)\n",
        "  da=0.95*(basic_salary)\n",
        "\n",
        "\n",
        "gross_salary= basic_salary + hra + da\n",
        "print (\"gross salary is= \", gross_salary)\n",
        "\n"
      ]
    },
    {
      "cell_type": "code",
      "source": [],
      "metadata": {
        "id": "XgndcPIkWfY-"
      },
      "execution_count": null,
      "outputs": []
    }
  ]
}